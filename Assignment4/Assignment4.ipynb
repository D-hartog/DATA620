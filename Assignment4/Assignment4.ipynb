{
 "cells": [
  {
   "cell_type": "markdown",
   "id": "2df0addb-966b-4794-888a-b8cc0aa5de5c",
   "metadata": {},
   "source": [
    "# Assignment 4: \n",
    "\n",
    "Please answer the following questions in an IPython Notebook, posted to GitHub.\n",
    "\n",
    "1. Choose a corpus of interest.\n",
    "2. How many total unique words are in the corpus? (Please feel free to define unique words in any interesting,\n",
    "defensible way).\n",
    "3. Taking the most common words, how many unique words represent half of the total words in the corpus?\n",
    "4. Identify the 200 highest frequency words in this corpus.\n",
    "5. Create a graph that shows the relative frequency of these 200 words.\n",
    "6. Does the observed relative frequency of these words follow Zipf’s law? Explain.\n",
    "7. In what ways do you think the frequency of the words in this corpus differ from “all words in all corpora.”"
   ]
  },
  {
   "cell_type": "code",
   "execution_count": 2,
   "id": "14e9db89-04ad-4650-8ea5-367fe4c9565d",
   "metadata": {},
   "outputs": [],
   "source": [
    "import pandas as pd\n",
    "import seaborn as sns \n",
    "import numpy as np\n",
    "import matplotlib.pyplot as plt\n",
    "import nltk, re, pprint"
   ]
  },
  {
   "cell_type": "markdown",
   "id": "8fc85a6b-ea4e-4894-b469-c879635eaa99",
   "metadata": {},
   "source": [
    "## 1. Choose a corpus of interest\n",
    "\n",
    "**\"The Picture of Dorian Grey\" by Oscar Wilde**\n",
    "\n",
    "Source: https://www.gutenberg.org/cache/epub/174/pg174.txt"
   ]
  },
  {
   "cell_type": "code",
   "execution_count": 5,
   "id": "a6d8305b-cd00-4c56-8064-7b66a1acdb93",
   "metadata": {},
   "outputs": [],
   "source": [
    "import requests \n",
    "\n",
    "url = \"https://www.gutenberg.org/cache/epub/174/pg174.txt\"\n",
    "\n",
    "# Read in the text file\n",
    "response = requests.get(url)\n",
    "raw = response.text"
   ]
  },
  {
   "cell_type": "code",
   "execution_count": 6,
   "id": "58f2f91d-3cd9-4647-9ae7-f5dbfe7e2c3c",
   "metadata": {},
   "outputs": [
    {
     "name": "stdout",
     "output_type": "stream",
     "text": [
      "457528\n"
     ]
    }
   ],
   "source": [
    "# Get the length of the text file \n",
    "\n",
    "print(len(raw))"
   ]
  },
  {
   "cell_type": "code",
   "execution_count": 10,
   "id": "c0521cbf-19f3-42df-be9e-bd39e4cd810c",
   "metadata": {},
   "outputs": [
    {
     "name": "stdout",
     "output_type": "stream",
     "text": [
      "<re.Match object; span=(3366, 3436), match='The studio was filled with the rich odour of rose>\n",
      "<re.Match object; span=(438667, 438674), match='THE END'>\n"
     ]
    }
   ],
   "source": [
    "# Find the beginning and of the text \n",
    "\n",
    "print(re.search('The studio was filled with the rich odour of roses, and when the light', raw))\n",
    "print(re.search('THE END', raw))\n",
    "\n",
    "# Slice the raw text to extract only the story\n",
    "raw_text = raw[3366:438667]"
   ]
  },
  {
   "cell_type": "code",
   "execution_count": 14,
   "id": "f142de9c-062e-4785-8973-e1faa4a6e4af",
   "metadata": {},
   "outputs": [
    {
     "data": {
      "text/plain": [
       "nltk.text.Text"
      ]
     },
     "execution_count": 14,
     "metadata": {},
     "output_type": "execute_result"
    }
   ],
   "source": [
    "# Tokenize the text \n",
    "\n",
    "podg_tokens = nltk.word_tokenize(raw_text.lower())\n",
    "\n",
    "# Create a nltk text object \n",
    "\n",
    "podg_text = nltk.Text(podg_tokens)\n",
    "\n",
    "type(podg_text)"
   ]
  },
  {
   "cell_type": "code",
   "execution_count": 229,
   "id": "735443ac-7001-4b3d-a70c-49ee18318db9",
   "metadata": {},
   "outputs": [
    {
     "name": "stdout",
     "output_type": "stream",
     "text": [
      "['the', 'studio', 'was', 'filled', 'with', 'the', 'rich', 'odour', 'of', 'roses', ',', 'and', 'when', 'the', 'light', 'summer', 'wind', 'stirred', 'amidst', 'the', 'trees', 'of', 'the', 'garden', ',', 'there', 'came', 'through', 'the', 'open', 'door', 'the', 'heavy', 'scent', 'of', 'the', 'lilac', ',', 'or', 'the', 'more', 'delicate', 'perfume', 'of', 'the', 'pink-flowering', 'thorn', '.', 'from', 'the', 'corner', 'of', 'the', 'divan', 'of', 'persian', 'saddle-bags', 'on', 'which', 'he', 'was', 'lying', ',', 'smoking', ',', 'as', 'was', 'his', 'custom', ',', 'innumerable', 'cigarettes', ',', 'lord', 'henry', 'wotton', 'could', 'just', 'catch', 'the', 'gleam', 'of', 'the', 'honey-sweet', 'and', 'honey-coloured', 'blossoms', 'of', 'a', 'laburnum', ',', 'whose', 'tremulous', 'branches', 'seemed', 'hardly', 'able', 'to', 'bear', 'the']\n"
     ]
    }
   ],
   "source": [
    "print(podg_tokens[0:100])"
   ]
  },
  {
   "cell_type": "markdown",
   "id": "ca1ce85f-53df-4284-b792-a363fce31462",
   "metadata": {},
   "source": [
    "There still appears to contain some **stop words** and **punctuation characters** that should be removed from the corpus"
   ]
  },
  {
   "cell_type": "code",
   "execution_count": 16,
   "id": "22f26e94-5be9-4bff-aa71-d4627f54b713",
   "metadata": {},
   "outputs": [
    {
     "data": {
      "text/plain": [
       "198"
      ]
     },
     "execution_count": 16,
     "metadata": {},
     "output_type": "execute_result"
    }
   ],
   "source": [
    "from nltk.corpus import stopwords\n",
    "\n",
    "stop_words = set(stopwords.words('english'))\n",
    "\n",
    "len(stop_words)"
   ]
  },
  {
   "cell_type": "code",
   "execution_count": 247,
   "id": "52c151b1-e198-4ea3-86d6-67164cfa67be",
   "metadata": {},
   "outputs": [],
   "source": [
    "# Remove punctuation\n",
    "\n",
    "podg_tokens_cleaned = [word for word in podg_tokens if re.findall(r'[^\\W]', word)]\n",
    "\n",
    "# Remove stop words\n",
    "\n",
    "podg_tokens_cleaned = [word for word in podg_tokens_cleaned if word not in stop_words]"
   ]
  },
  {
   "cell_type": "markdown",
   "id": "b6b7b84f-b511-447e-acd4-fe4ef960baef",
   "metadata": {},
   "source": [
    "## 2. How many total unique words are in the corpus? \n",
    "*(Please feel free to define unique words in any interesting,\n",
    "defensible way).*\n",
    "\n",
    "We will define unique words as those that are not stop words or any punctuation character and that shows up at least once in the text."
   ]
  },
  {
   "cell_type": "code",
   "execution_count": 397,
   "id": "497a9610-6304-4e08-adf4-a37274aa1b5a",
   "metadata": {},
   "outputs": [
    {
     "name": "stdout",
     "output_type": "stream",
     "text": [
      "Final token size: 36725\n",
      "Unique tokens: 7504\n",
      "Average number of times a unique token appears: 4.89\n"
     ]
    }
   ],
   "source": [
    "# Find the final token size \n",
    "total_tokens = len(podg_tokens_cleaned)\n",
    "print(f'Final token size: {total_tokens}')\n",
    "\n",
    "# Find number of unique tokens\n",
    "total_unique_tokens = len(set(podg_tokens_cleaned))\n",
    "print(f'Unique tokens: {total_unique_tokens}')\n",
    "\n",
    "# Calculate lexicon diversity \n",
    "print(f'Average number of times a unique token appears: {total_tokens / total_unique_tokens:.2f}')"
   ]
  },
  {
   "cell_type": "markdown",
   "id": "80a0d82d-9d05-44df-9696-061fc610e8ba",
   "metadata": {},
   "source": [
    "## 3. Taking the most common words, how many unique words represent half of the total words in the corpus?"
   ]
  },
  {
   "cell_type": "code",
   "execution_count": 465,
   "id": "c74a495c-fa3a-49a3-b82b-6d7183045f65",
   "metadata": {},
   "outputs": [],
   "source": [
    "# Create a frequency distribution dictionary \n",
    "\n",
    "freq_dict = dict(FreqDist(podg_tokens_cleaned))\n",
    "        \n",
    "# Create a sorted dictionary \n",
    "freq_dict_sorted = dict(sorted(freq_dict.items(), key = lambda x: x[1], reverse = True))"
   ]
  },
  {
   "cell_type": "code",
   "execution_count": 467,
   "id": "a408f603-4a3e-4ab7-806e-d106366a6eaf",
   "metadata": {},
   "outputs": [],
   "source": [
    "# capture the word contributing to the count of half the total corpus \n",
    "words = []\n",
    "\n",
    "# initate count at 0 \n",
    "i = 0\n",
    "for key, value in freq_dict_sorted.items(): # loop through the sorted dictionay \n",
    "    if i <= len(podg_tokens_cleaned)/2: # evaluate i is still less than half of the total corpus \n",
    "        words.append(key) # add the word to the list\n",
    "        i = i + value # update the value of i"
   ]
  },
  {
   "cell_type": "code",
   "execution_count": 469,
   "id": "f85a3987-b58d-40a3-a592-2c262d22d7e5",
   "metadata": {},
   "outputs": [
    {
     "name": "stdout",
     "output_type": "stream",
     "text": [
      "The number of unique words that represent half of the total words in the corpus is 363\n"
     ]
    }
   ],
   "source": [
    "print(f'The number of unique words that represent half of the total words in the corpus is {len(words)}')"
   ]
  },
  {
   "cell_type": "markdown",
   "id": "b339db60-8038-4f90-83b4-384c72c8dc03",
   "metadata": {},
   "source": [
    "## 4. Identify the 200 highest frequency words in this corpus."
   ]
  },
  {
   "cell_type": "code",
   "execution_count": 630,
   "id": "4f90de80-4fb8-4ed6-9b1c-0e3ddd7d6af6",
   "metadata": {},
   "outputs": [
    {
     "name": "stdout",
     "output_type": "stream",
     "text": [
      "['one', 'dorian', 'would', 'said', 'lord', 'henry', 'life', 'like', 'gray', 'man', 'never', 'know', 'harry', 'basil', 'must', 'could', 'think', 'come', 'see', 'things', 'seemed', 'something', 'us', 'thing', 'go', 'made', 'always', 'love', 'eyes', 'quite', 'time', 'want', 'good', 'face', 'really', 'back', 'away', 'people', 'came', 'cried', 'looked', 'say', 'tell', 'hallward', 'world', 'look', 'nothing', 'room', 'little', 'answered', 'much', 'going', 'upon', 'thought', 'sibyl', 'round', 'shall', 'yes', 'mr.', 'told', 'ever', 'felt', 'great', 'dear', 'men', 'yet', 'young', 'lady', 'long', 'moment', 'let', 'picture', 'everything', 'women', 'door', 'anything', 'went', 'hand', 'art', 'two', 'across', 'might', 'asked', 'soul', 'make', 'passed', 'afraid', 'night', 'old', 'every', 'day', 'well', 'looking', 'wonderful', 'table', 'vane', 'turned', 'got', 'lips', 'beauty', 'left', 'portrait', 'head', 'course', 'white', 'lad', 'hands', 'sir', 'done', 'better', 'believe', 'right', 'house', 'still', 'oh', 'even', 'first', 'horrible', 'suddenly', 'curious', 'knew', 'rather', 'last', 'whose', 'strange', 'name', 'voice', 'found', 'get', 'passion', 'pleasure', 'true', 'began', 'saw', 'take', 'mother', 'way', 'dreadful', 'talk', 'put', 'wish', 'woman', 'many', 'work', 'laughed', 'real', 'murmured', 'secret', 'seen', 'painter', 'simply', 'met', 'terrible', 'wonder', 'girl', 'duchess', 'absolutely', 'merely', 'give', 'beautiful', 'perhaps', 'charming', 'dead', 'used', 'heard', 'years', 'though', 'feel', 'whole', 'often', 'behind', 'certainly', 'indeed', 'play', 'bad', 'youth', 'sense', 'stood', 'suppose', 'forget', 'took', 'new', 'ah', 'air', 'mind', 'mad', 'boy', 'sure', 'may', 'painted', 'ask', 'gold', 'joy', 'answer', 'hideous', 'find', 'almost', 'sat', 'feet']\n"
     ]
    }
   ],
   "source": [
    "print(list(freq_dict_sorted.keys())[0:199])"
   ]
  },
  {
   "cell_type": "markdown",
   "id": "be8c3d73-5f99-4aaa-a11d-17668ce2889e",
   "metadata": {},
   "source": [
    "## 5. Create a graph that shows the relative frequency of these 200 words."
   ]
  },
  {
   "cell_type": "code",
   "execution_count": 602,
   "id": "4835df8a-c3d0-42e0-9f46-da85a086d385",
   "metadata": {},
   "outputs": [],
   "source": [
    "freq_df = pd.DataFrame({\"word\" : freq_dict_sorted.keys(), \"frequency\" : freq_dict_sorted.values()})\n",
    "\n",
    "freq_200 = freq_df.copy()\n",
    "freq_200 = freq_200.iloc[0:200,:]\n",
    "\n",
    "\n",
    "freq_200[\"rel_freq\"] = freq_200[\"frequency\"] / i # is the length of the total tokens in half the corpus \n",
    "\n",
    "freq_200[\"percent\"] = round(freq_200[\"rel_freq\"] * 100, 2)"
   ]
  },
  {
   "cell_type": "code",
   "execution_count": 604,
   "id": "875eabb2-5766-47f0-9ce4-f2e03d1f126c",
   "metadata": {},
   "outputs": [
    {
     "data": {
      "text/html": [
       "<div>\n",
       "<style scoped>\n",
       "    .dataframe tbody tr th:only-of-type {\n",
       "        vertical-align: middle;\n",
       "    }\n",
       "\n",
       "    .dataframe tbody tr th {\n",
       "        vertical-align: top;\n",
       "    }\n",
       "\n",
       "    .dataframe thead th {\n",
       "        text-align: right;\n",
       "    }\n",
       "</style>\n",
       "<table border=\"1\" class=\"dataframe\">\n",
       "  <thead>\n",
       "    <tr style=\"text-align: right;\">\n",
       "      <th></th>\n",
       "      <th>word</th>\n",
       "      <th>frequency</th>\n",
       "      <th>rel_freq</th>\n",
       "      <th>percent</th>\n",
       "    </tr>\n",
       "  </thead>\n",
       "  <tbody>\n",
       "    <tr>\n",
       "      <th>0</th>\n",
       "      <td>one</td>\n",
       "      <td>427</td>\n",
       "      <td>0.023239</td>\n",
       "      <td>2.32</td>\n",
       "    </tr>\n",
       "    <tr>\n",
       "      <th>1</th>\n",
       "      <td>dorian</td>\n",
       "      <td>405</td>\n",
       "      <td>0.022042</td>\n",
       "      <td>2.20</td>\n",
       "    </tr>\n",
       "    <tr>\n",
       "      <th>2</th>\n",
       "      <td>would</td>\n",
       "      <td>305</td>\n",
       "      <td>0.016600</td>\n",
       "      <td>1.66</td>\n",
       "    </tr>\n",
       "    <tr>\n",
       "      <th>3</th>\n",
       "      <td>said</td>\n",
       "      <td>261</td>\n",
       "      <td>0.014205</td>\n",
       "      <td>1.42</td>\n",
       "    </tr>\n",
       "    <tr>\n",
       "      <th>4</th>\n",
       "      <td>lord</td>\n",
       "      <td>248</td>\n",
       "      <td>0.013497</td>\n",
       "      <td>1.35</td>\n",
       "    </tr>\n",
       "  </tbody>\n",
       "</table>\n",
       "</div>"
      ],
      "text/plain": [
       "     word  frequency  rel_freq  percent\n",
       "0     one        427  0.023239     2.32\n",
       "1  dorian        405  0.022042     2.20\n",
       "2   would        305  0.016600     1.66\n",
       "3    said        261  0.014205     1.42\n",
       "4    lord        248  0.013497     1.35"
      ]
     },
     "execution_count": 604,
     "metadata": {},
     "output_type": "execute_result"
    }
   ],
   "source": [
    "freq_200.head()"
   ]
  },
  {
   "cell_type": "code",
   "execution_count": 606,
   "id": "01f9d24b-a2fb-4287-bafe-6a74b73381e7",
   "metadata": {},
   "outputs": [
    {
     "data": {
      "text/html": [
       "<div>\n",
       "<style scoped>\n",
       "    .dataframe tbody tr th:only-of-type {\n",
       "        vertical-align: middle;\n",
       "    }\n",
       "\n",
       "    .dataframe tbody tr th {\n",
       "        vertical-align: top;\n",
       "    }\n",
       "\n",
       "    .dataframe thead th {\n",
       "        text-align: right;\n",
       "    }\n",
       "</style>\n",
       "<table border=\"1\" class=\"dataframe\">\n",
       "  <thead>\n",
       "    <tr style=\"text-align: right;\">\n",
       "      <th></th>\n",
       "      <th>word</th>\n",
       "      <th>frequency</th>\n",
       "      <th>rel_freq</th>\n",
       "      <th>percent</th>\n",
       "    </tr>\n",
       "  </thead>\n",
       "  <tbody>\n",
       "    <tr>\n",
       "      <th>195</th>\n",
       "      <td>find</td>\n",
       "      <td>31</td>\n",
       "      <td>0.001687</td>\n",
       "      <td>0.17</td>\n",
       "    </tr>\n",
       "    <tr>\n",
       "      <th>196</th>\n",
       "      <td>almost</td>\n",
       "      <td>31</td>\n",
       "      <td>0.001687</td>\n",
       "      <td>0.17</td>\n",
       "    </tr>\n",
       "    <tr>\n",
       "      <th>197</th>\n",
       "      <td>sat</td>\n",
       "      <td>31</td>\n",
       "      <td>0.001687</td>\n",
       "      <td>0.17</td>\n",
       "    </tr>\n",
       "    <tr>\n",
       "      <th>198</th>\n",
       "      <td>feet</td>\n",
       "      <td>31</td>\n",
       "      <td>0.001687</td>\n",
       "      <td>0.17</td>\n",
       "    </tr>\n",
       "    <tr>\n",
       "      <th>199</th>\n",
       "      <td>to-night</td>\n",
       "      <td>31</td>\n",
       "      <td>0.001687</td>\n",
       "      <td>0.17</td>\n",
       "    </tr>\n",
       "  </tbody>\n",
       "</table>\n",
       "</div>"
      ],
      "text/plain": [
       "         word  frequency  rel_freq  percent\n",
       "195      find         31  0.001687     0.17\n",
       "196    almost         31  0.001687     0.17\n",
       "197       sat         31  0.001687     0.17\n",
       "198      feet         31  0.001687     0.17\n",
       "199  to-night         31  0.001687     0.17"
      ]
     },
     "execution_count": 606,
     "metadata": {},
     "output_type": "execute_result"
    }
   ],
   "source": [
    "freq_200.tail()"
   ]
  },
  {
   "cell_type": "code",
   "execution_count": 658,
   "id": "0e4c531f-a82b-45f3-a8ea-05e6612f5faf",
   "metadata": {},
   "outputs": [],
   "source": [
    "# Create a graph \n",
    "#plt.figure(figsize = (8, 12))\n",
    "#sns.barplot(data = freq_200, y = \"word\", x =  \"percent\")\n",
    "#plt.yticks(size = 6)\n",
    "#plt.tight_layout()\n",
    "#plt.show()"
   ]
  },
  {
   "cell_type": "code",
   "execution_count": 612,
   "id": "e8e30639-6f62-4331-843c-ab78c6211f47",
   "metadata": {},
   "outputs": [
    {
     "data": {
      "image/png": "[encoded data removed]",
      "text/plain": [
       "<Figure size 640x480 with 1 Axes>"
      ]
     },
     "metadata": {},
     "output_type": "display_data"
    }
   ],
   "source": [
    "# Create a histogram to visualize the distribution of the releative frequency \n",
    "\n",
    "sns.histplot(data = freq_200, x = \"rel_freq\", kde=True)\n",
    "plt.suptitle(\"Distribution of Relative Frequencies\")\n",
    "plt.xlabel(\"Relative Frequency\")\n",
    "plt.ylabel(\"Count\")\n",
    "plt.title(\"Top 200 Words\")\n",
    "plt.show()"
   ]
  },
  {
   "cell_type": "markdown",
   "id": "662a327d-67aa-44e1-b9f9-ebc6463e4b2d",
   "metadata": {},
   "source": [
    "## 6. Does the observed relative frequency of these words follow Zipf’s law? Explain.\n",
    "\n",
    "According to the definition on page 76 in \"Natural Language Processing with Python\" **Zipf’s Law:** Let f(w) be the frequency of a word w in free text. Suppose that all the words of a text are ranked according to their frequency, with the most frequent word first. \n",
    "\n",
    "**Zipf’s Law** states that the frequency of a word type is inversely proportional to its rank (i.e., f × r = k, for some constant k). For example, the 50th most common word type should occur three times as frequently as the 150th most common word type."
   ]
  },
  {
   "cell_type": "code",
   "execution_count": 614,
   "id": "385a9343-3b39-4d6f-87d4-065a79ea2b83",
   "metadata": {},
   "outputs": [],
   "source": [
    "# add a rankings column \n",
    "rankings = [*range(1, freq_df.shape[0] + 1)]\n",
    "    \n",
    "freq_df[\"rank\"] = rankings"
   ]
  },
  {
   "cell_type": "code",
   "execution_count": 616,
   "id": "4af3bd83-1226-4ceb-9940-f812ee21166f",
   "metadata": {},
   "outputs": [
    {
     "data": {
      "image/png": "[encoded data removed]",
      "text/plain": [
       "<Figure size 1200x500 with 2 Axes>"
      ]
     },
     "metadata": {},
     "output_type": "display_data"
    }
   ],
   "source": [
    "# Plot two graphs side by side frequency x rank\n",
    "fig, ax = plt.subplots(nrows = 1, ncols = 2, figsize = (12, 5))\n",
    "# frequency by rank\n",
    "sns.scatterplot(freq_df, x = \"rank\", y = \"frequency\", ax = ax[0])\n",
    "ax[0].set_title(\"Frequency vs. Rank\")\n",
    "plt.xlabel(\"Rank\")\n",
    "plt.ylabel(\"Frequency\")\n",
    "\n",
    "# Convert frequency and rank to logrithmic values and replot\n",
    "freq_df[\"rank_log\"] = np.log(freq_df[\"rank\"])\n",
    "freq_df[\"frequency_log\"] = np.log(freq_df[\"frequency\"])\n",
    "\n",
    "sns.scatterplot(freq_df, x = \"rank_log\", y = \"frequency_log\", ax = ax[1])\n",
    "ax[1].set_title(\"Frequency vs. Rank - Log Transformed\")\n",
    "plt.xlabel(\"Rank (log)\")\n",
    "plt.ylabel(\"Frequency (log)\")\n",
    "\n",
    "plt.show()"
   ]
  },
  {
   "cell_type": "code",
   "execution_count": 618,
   "id": "9b9fe21f-d0d4-40f6-bb54-3573b7515c05",
   "metadata": {},
   "outputs": [
    {
     "name": "stdout",
     "output_type": "stream",
     "text": [
      "14    154\n",
      "Name: frequency, dtype: int64\n",
      "44    91\n",
      "Name: frequency, dtype: int64\n"
     ]
    }
   ],
   "source": [
    "# Get the frequcy of the 50th most common word type\n",
    "print(freq_df.loc[freq_df[\"rank\"] == 15, \"frequency\"])\n",
    "\n",
    "# Get the frequcy of the 150th most common word type\n",
    "print(freq_df.loc[freq_df[\"rank\"] == 45, \"frequency\"])"
   ]
  },
  {
   "cell_type": "markdown",
   "id": "bf706090-4fc6-4303-bfa6-c473f5300e93",
   "metadata": {},
   "source": [
    "The observed frequency does follow Zipf's Law that states rank and refequency are inversely proportional. The log transformed values demonstrate this inverse relationship more clearly. "
   ]
  },
  {
   "cell_type": "markdown",
   "id": "05690363-eef5-49fe-b3e5-6120c1eda1f7",
   "metadata": {},
   "source": [
    "## 7. In what ways do you think the frequency of the words in this corpus differ from “all words in all corpora.”"
   ]
  },
  {
   "cell_type": "markdown",
   "id": "b41f12ea-724e-4156-a3a8-e81742873892",
   "metadata": {},
   "source": [
    "The frequency of words in this corpus differs from all words in all corpora in that this was a book written by a specific author. Authors usually have thier own styles of writing, character development and themes based on the story they are trying to tell. As we saw in this corpus three male names were in top 20 most frequent words (Dorian, Harry, Henry). Perhaps these names may have been popular in the 19th centry when the book was written and might have shown up more frequenty in other corpus. To generalize this onto all corpora is would not be accurate.   "
   ]
  }
 ],
 "metadata": {
  "kernelspec": {
   "display_name": "Python 3 (ipykernel)",
   "language": "python",
   "name": "python3"
  },
  "language_info": {
   "codemirror_mode": {
    "name": "ipython",
    "version": 3
   },
   "file_extension": ".py",
   "mimetype": "text/x-python",
   "name": "python",
   "nbconvert_exporter": "python",
   "pygments_lexer": "ipython3",
   "version": "3.9.19"
  }
 },
 "nbformat": 4,
 "nbformat_minor": 5
}
